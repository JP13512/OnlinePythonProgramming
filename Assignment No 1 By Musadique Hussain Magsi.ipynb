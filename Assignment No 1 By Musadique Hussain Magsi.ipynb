{
 "cells": [
  {
   "cell_type": "code",
   "execution_count": 1,
   "id": "ea4e6d9d",
   "metadata": {},
   "outputs": [
    {
     "name": "stdout",
     "output_type": "stream",
     "text": [
      "Twinkle, twinkle, little star,\n",
      "\tHow I wonder what you are!\n",
      "\t\tUp above the world so high,\n",
      "\t\tLike a diamond in the sky.\n",
      "Twinkle, twinkle, little star,\n",
      "\tHow I wonder what you are\n"
     ]
    }
   ],
   "source": [
    "'''1. Write a Python program to print the following string in a specific format (see the \n",
    "output). \n",
    "        Twinkle, twinkle, little star, \n",
    "            How I wonder what you are! \n",
    "                Up above the world so high, \n",
    "                Like a diamond in the sky. \n",
    "         Twinkle, twinkle, little star, \n",
    "            How I wonder what you are '''\n",
    "print(\"Twinkle, twinkle, little star,\\n\\tHow I wonder what you are!\\n\\t\\tUp above the world so high,\\n\\t\\tLike a diamond in the sky.\\nTwinkle, twinkle, little star,\\n\\tHow I wonder what you are\");"
   ]
  },
  {
   "cell_type": "code",
   "execution_count": 2,
   "id": "eb17a3cd",
   "metadata": {},
   "outputs": [
    {
     "name": "stdout",
     "output_type": "stream",
     "text": [
      "Python Version: 3.8.8\n"
     ]
    }
   ],
   "source": [
    "#2. Write a Python program to get the Python version you are using\n",
    "import platform\n",
    "print(\"Python Version: \"+platform.python_version())"
   ]
  },
  {
   "cell_type": "code",
   "execution_count": 3,
   "id": "0a09b386",
   "metadata": {},
   "outputs": [
    {
     "name": "stdout",
     "output_type": "stream",
     "text": [
      "Current Date and Time: 01-01-2022 19:04:00\n"
     ]
    }
   ],
   "source": [
    "#3. Write a Python program to display the current date and time.\n",
    "import datetime;\n",
    "\n",
    "now = datetime.datetime.now();\n",
    "print(\"Current Date and Time: \"+now.strftime(\"%d-%m-%Y %H:%M:%S\"));"
   ]
  },
  {
   "cell_type": "code",
   "execution_count": 4,
   "id": "77fb7773",
   "metadata": {},
   "outputs": [
    {
     "name": "stdout",
     "output_type": "stream",
     "text": [
      "Enter the Radius Of Circle :5\n",
      "Area of circle is :  78.53750000000001 cm2\n"
     ]
    }
   ],
   "source": [
    "'''4. Write a Python program which accepts the radius of a circle from the user and compute \n",
    "the area.'''\n",
    "\n",
    "pi=3.1415\n",
    "radius=float(input(\"Enter the Radius Of Circle :\"));\n",
    "area=pi*radius**2;\n",
    "print(\"Area of circle is : \", area , \"cm2\");"
   ]
  },
  {
   "cell_type": "code",
   "execution_count": 5,
   "id": "ffd313c4",
   "metadata": {},
   "outputs": [
    {
     "name": "stdout",
     "output_type": "stream",
     "text": [
      "Enter Your First Name :Musadique Hussain\n",
      "Enter Your Last Name :Magsi\n",
      "Your Full Name is :  Magsi Musadique Hussain\n"
     ]
    }
   ],
   "source": [
    "'''5. Write a Python program which accepts the user's first and last name and print them in \n",
    "reverse order with a space between them. '''\n",
    "\n",
    "first_name=input(\"Enter Your First Name :\");\n",
    "last_name= input(\"Enter Your Last Name :\");\n",
    "print(\"Your Full Name is : \",last_name+\" \"+first_name);"
   ]
  },
  {
   "cell_type": "code",
   "execution_count": 6,
   "id": "2caffab0",
   "metadata": {},
   "outputs": [
    {
     "name": "stdout",
     "output_type": "stream",
     "text": [
      "Enter the First Number :12\n",
      "Enter the Second Number :14\n",
      "Addition of Two Numbers is : 26\n"
     ]
    }
   ],
   "source": [
    "#6. Write a python program which takes two inputs from user and print them addition\n",
    "num1=int(input(\"Enter the First Number :\"));\n",
    "num2=int(input(\"Enter the Second Number :\"));\n",
    "print(\"Addition of Two Numbers is :\",(num1+num2));"
   ]
  },
  {
   "cell_type": "code",
   "execution_count": null,
   "id": "7799f8a4",
   "metadata": {},
   "outputs": [],
   "source": []
  }
 ],
 "metadata": {
  "kernelspec": {
   "display_name": "Python 3",
   "language": "python",
   "name": "python3"
  },
  "language_info": {
   "codemirror_mode": {
    "name": "ipython",
    "version": 3
   },
   "file_extension": ".py",
   "mimetype": "text/x-python",
   "name": "python",
   "nbconvert_exporter": "python",
   "pygments_lexer": "ipython3",
   "version": "3.8.8"
  }
 },
 "nbformat": 4,
 "nbformat_minor": 5
}
