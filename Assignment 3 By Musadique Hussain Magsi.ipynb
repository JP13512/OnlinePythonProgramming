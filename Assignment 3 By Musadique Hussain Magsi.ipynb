{
 "cells": [
  {
   "cell_type": "code",
   "execution_count": 1,
   "id": "7f060556",
   "metadata": {},
   "outputs": [
    {
     "name": "stdout",
     "output_type": "stream",
     "text": [
      "Twinkle, twinkle, little star,\n",
      "\tHow I wonder what you are!\n",
      "\t\tUp above the world so high,\n",
      "\t\tLike a diamond in the sky.\n",
      "Twinkle, twinkle, little star,\n",
      "\tHow I wonder what you are\n"
     ]
    }
   ],
   "source": [
    "\"\"\"1. Write a Python program to print the following string in a specific format (see the \n",
    "output). \n",
    "        Twinkle, twinkle, little star, \n",
    "            How I wonder what you are! \n",
    "                Up above the world so high, \n",
    "                Like a diamond in the sky. \n",
    "         Twinkle, twinkle, little star, \n",
    "            How I wonder what you are \"\"\"\n",
    "\n",
    "print(\"Twinkle, twinkle, little star,\\n\\tHow I wonder what you are!\\n\\t\\tUp above the world so high,\\n\\t\\tLike a diamond in the sky.\\nTwinkle, twinkle, little star,\\n\\tHow I wonder what you are\");"
   ]
  },
  {
   "cell_type": "code",
   "execution_count": 2,
   "id": "9822a999",
   "metadata": {},
   "outputs": [
    {
     "name": "stdout",
     "output_type": "stream",
     "text": [
      "Python Version: 3.8.8\n"
     ]
    }
   ],
   "source": [
    "#2. Write a Python program to get the Python version you are using\n",
    "import platform;\n",
    "\n",
    "print(\"Python Version: \"+platform.python_version());"
   ]
  },
  {
   "cell_type": "code",
   "execution_count": 3,
   "id": "387395c7",
   "metadata": {},
   "outputs": [
    {
     "name": "stdout",
     "output_type": "stream",
     "text": [
      "Current Date and Time: 24-10-2021 10:18:57\n"
     ]
    }
   ],
   "source": [
    "#3. Write a Python program to display the current date and time.\n",
    "import datetime;\n",
    "\n",
    "now = datetime.datetime.now();\n",
    "print(\"Current Date and Time: \"+now.strftime(\"%d-%m-%Y %H:%M:%S\"));"
   ]
  },
  {
   "cell_type": "code",
   "execution_count": 4,
   "id": "0386de56",
   "metadata": {},
   "outputs": [
    {
     "name": "stdout",
     "output_type": "stream",
     "text": [
      "Enter radius of Circle: 5\n",
      "Area of Circle is: 49.34802200544679\n"
     ]
    }
   ],
   "source": [
    "#4. Write a Python program which accepts the radius of a circle from the user and compute the area.\n",
    "\n",
    "from math import pi\n",
    "\n",
    " #str converts number to string [Learnd 1st time]\n",
    "radius= float(input(\"Enter radius of Circle: \"));\n",
    "print(\"Area of Circle is: \"+str(pi**2*radius));   "
   ]
  },
  {
   "cell_type": "code",
   "execution_count": 5,
   "id": "69e25c24",
   "metadata": {},
   "outputs": [
    {
     "name": "stdout",
     "output_type": "stream",
     "text": [
      "Enter first name: Musadique \n",
      "Enter first name: Musadique Magsi\n",
      "Asslam-u-Alaikum: Musadique Magsi Musadique \n"
     ]
    }
   ],
   "source": [
    "\"\"\"5. Write a Python program which accepts the user's first and last name and print them in \n",
    "reverse order with a space between them. \"\"\"\n",
    "\n",
    "first_name = input(\"Enter first name: \");\n",
    "last_name = input(\"Enter last name: \");\n",
    "\n",
    "print(\"Asslam-u-Alaikum: \"+last_name+\" \"+first_name);"
   ]
  },
  {
   "cell_type": "code",
   "execution_count": 6,
   "id": "582c0833",
   "metadata": {},
   "outputs": [
    {
     "name": "stdout",
     "output_type": "stream",
     "text": [
      "Enter 1st inputs: 5\n",
      "Enter second inputs: 6\n",
      "Sum of two inputs is: 11\n"
     ]
    }
   ],
   "source": [
    "#6. Write a python program which takes two inputs from user and print them addition\n",
    "\n",
    "num1 = int(input(\"Enter 1st inputs: \")); \n",
    "num2 = int(input(\"Enter second inputs: \"));\n",
    "\n",
    "print(\"Sum of two inputs is: \"+str(num1+num2));"
   ]
  },
  {
   "cell_type": "code",
   "execution_count": 7,
   "id": "83644277",
   "metadata": {},
   "outputs": [
    {
     "name": "stdout",
     "output_type": "stream",
     "text": [
      "Enter marks of Physics: 90\n",
      "Enter marks of Maths: 80\n",
      "Enter marks of Chemistry: 85\n",
      "Enter marks of English: 87\n",
      "Enter marks of History: 82\n"
     ]
    }
   ],
   "source": [
    "#7. Write a program which takes 5 inputs from user for different subject’s marks, \n",
    "#total it and generate mark sheet using grades ?\n",
    "\n",
    "Physics = int(input(\"Enter marks of Physics: \"));\n",
    "Maths = int(input(\"Enter marks of Maths: \"));\n",
    "Chemistry = int(input(\"Enter marks of Chemistry: \"));\n",
    "English = int(input(\"Enter marks of English: \"));\n",
    "History = int(input(\"Enter marks of History: \"));\n",
    "total_marks=500;\n",
    "Obtained_marks= Physics+Maths+Chemistry+English+History;\n",
    "perc = Obtained_marks/total_marks *100.0;"
   ]
  },
  {
   "cell_type": "code",
   "execution_count": 8,
   "id": "80ccaccf",
   "metadata": {},
   "outputs": [
    {
     "name": "stdout",
     "output_type": "stream",
     "text": [
      "Enter marks of Physics: 89\n",
      "Enter marks of Maths: 85\n",
      "Enter marks of Chemistry: 87\n",
      "Enter marks of English: 90\n",
      "Enter marks of History: 85\n",
      "Grade is A\n"
     ]
    }
   ],
   "source": [
    "#7. Write a program which takes 5 inputs from user for different subject’s marks, total it \n",
    "#and generate mark sheet using grades ?\n",
    "\n",
    "Physics = int(input(\"Enter marks of Physics: \"));\n",
    "Maths = int(input(\"Enter marks of Maths: \"));\n",
    "Chemistry = int(input(\"Enter marks of Chemistry: \"));\n",
    "English = int(input(\"Enter marks of English: \"));\n",
    "History = int(input(\"Enter marks of History: \"));\n",
    "total_marks=500;\n",
    "Obtained_marks= Physics+Maths+Chemistry+English+History;\n",
    "perc = Obtained_marks/total_marks *100.0;\n",
    "\n",
    "if(perc>0):\n",
    "    if perc>90  and perc<=100:\n",
    "        print(\"Grade is A+\")\n",
    "    elif perc>82  and perc<=90:\n",
    "        print(\"Grade is A\")\n",
    "    elif perc>74  and perc<=82:\n",
    "        print(\"Grade is B+\")\n",
    "    elif perc>64  and perc<=74:\n",
    "        print(\"Grade is B\")\n",
    "    elif perc>60  and perc<=64:\n",
    "        print(\"Grade is C+\")\n",
    "    elif perc>50  and perc<=60:\n",
    "        print(\"Grade is C\")\n",
    "    else:\n",
    "        print(\"Grade is F\")\n",
    "else:\n",
    "    print(\"Invalid!!! Please, Enter a valid positive number!!!\");"
   ]
  },
  {
   "cell_type": "code",
   "execution_count": 9,
   "id": "9dec4086",
   "metadata": {},
   "outputs": [
    {
     "name": "stdout",
     "output_type": "stream",
     "text": [
      "Enter a number: 5\n",
      "Number is Odd...\n"
     ]
    }
   ],
   "source": [
    "#8. Write a program which take input from user and identify that the given number is even or odd?\n",
    "num = int(input(\"Enter a number: \"));\n",
    "if num%2==0:\n",
    "    print(\"Number is Even...\");\n",
    "else:\n",
    "    print(\"Number is Odd...\");"
   ]
  },
  {
   "cell_type": "code",
   "execution_count": 10,
   "id": "00f951c1",
   "metadata": {},
   "outputs": [
    {
     "name": "stdout",
     "output_type": "stream",
     "text": [
      "Length of list is:  5\n"
     ]
    }
   ],
   "source": [
    "#9. Write a program which print the length of the list?\n",
    "MSD = [\"Musadique\", \"Hussain\", \"19CS\", 82, \"Moro\"];\n",
    "print(\"Length of list is: \", len(MSD));"
   ]
  },
  {
   "cell_type": "code",
   "execution_count": 11,
   "id": "0a7b6882",
   "metadata": {},
   "outputs": [
    {
     "name": "stdout",
     "output_type": "stream",
     "text": [
      "11\n"
     ]
    }
   ],
   "source": [
    "#10.Write a Python program to sum all the numeric items in a list? \n",
    "iasList=[4,5,-3,6,-1];\n",
    "sum=0;\n",
    "for x in iasList:\n",
    "    sum+=x;\n",
    "print(sum);"
   ]
  },
  {
   "cell_type": "code",
   "execution_count": null,
   "id": "06fa0107",
   "metadata": {},
   "outputs": [],
   "source": [
    "#12. Take a list, say for example this one:\n",
    "#     a= [1, 1, 2, 3, 5, 8, 13, 21, 34, 55, 89] \n",
    "# Write a program that prints out all the elements of the list that are less than 5.\n",
    "\n",
    "a = [1, 1, 2, 3, 5, 8, 13, 21, 34, 55, 89];\n",
    "\n",
    "for item in a:\n",
    "    if item<5:\n",
    "        print(item);"
   ]
  }
 ],
 "metadata": {
  "kernelspec": {
   "display_name": "Python 3",
   "language": "python",
   "name": "python3"
  },
  "language_info": {
   "codemirror_mode": {
    "name": "ipython",
    "version": 3
   },
   "file_extension": ".py",
   "mimetype": "text/x-python",
   "name": "python",
   "nbconvert_exporter": "python",
   "pygments_lexer": "ipython3",
   "version": "3.8.8"
  }
 },
 "nbformat": 4,
 "nbformat_minor": 5
}
