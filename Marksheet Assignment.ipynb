{
 "cells": [
  {
   "cell_type": "code",
   "execution_count": 7,
   "id": "8ee38f5b",
   "metadata": {},
   "outputs": [
    {
     "name": "stdout",
     "output_type": "stream",
     "text": [
      "Grade A\n"
     ]
    }
   ],
   "source": [
    "percent = 80;\n",
    "if percent < 100 and percent>83:\n",
    "    print (\"Grade A+\");\n",
    "\n",
    "elif percent < 82 and percent>75:\n",
    "    print (\"Grade A\");\n",
    "\n",
    "elif percent < 74 and percent>68:\n",
    "    print (\"Grade B+\");\n",
    "\n",
    "elif percent < 68 and percent>60:\n",
    "    print (\"Grade B\");\n",
    "\n",
    "\n",
    "elif percent < 60 and percent>54:\n",
    "    print (\"Grade C+\");\n",
    "    \n",
    "elif percent < 53 and percent>48:\n",
    "    print (\"Grade C\");\n",
    "else:\n",
    "    print (\"Fail\")\n",
    "    "
   ]
  },
  {
   "cell_type": "code",
   "execution_count": null,
   "id": "8c74d631",
   "metadata": {},
   "outputs": [],
   "source": []
  }
 ],
 "metadata": {
  "kernelspec": {
   "display_name": "Python 3",
   "language": "python",
   "name": "python3"
  },
  "language_info": {
   "codemirror_mode": {
    "name": "ipython",
    "version": 3
   },
   "file_extension": ".py",
   "mimetype": "text/x-python",
   "name": "python",
   "nbconvert_exporter": "python",
   "pygments_lexer": "ipython3",
   "version": "3.8.8"
  }
 },
 "nbformat": 4,
 "nbformat_minor": 5
}
